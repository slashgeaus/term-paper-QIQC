{
  "nbformat": 4,
  "nbformat_minor": 0,
  "metadata": {
    "colab": {
      "name": "mumax3.ipynb",
      "provenance": [],
      "include_colab_link": true
    },
    "kernelspec": {
      "name": "python3",
      "display_name": "Python 3"
    },
    "accelerator": "GPU"
  },
  "cells": [
    {
      "cell_type": "markdown",
      "metadata": {
        "id": "view-in-github",
        "colab_type": "text"
      },
      "source": [
        "<a href=\"https://colab.research.google.com/github/slashgeaus/term-paper-QIQC/blob/main/mumax3.ipynb\" target=\"_parent\"><img src=\"https://colab.research.google.com/assets/colab-badge.svg\" alt=\"Open In Colab\"/></a>"
      ]
    },
    {
      "cell_type": "markdown",
      "metadata": {
        "id": "YKnOM0Rd_WpW"
      },
      "source": [
        "# **Mumax3 in google colaboratory**"
      ]
    },
    {
      "cell_type": "markdown",
      "metadata": {
        "id": "7z-jkukmWz2a"
      },
      "source": [
        "# About Google colaboratory"
      ]
    },
    {
      "cell_type": "markdown",
      "metadata": {
        "id": "y2SER9qhXpjG"
      },
      "source": [
        "Google colaboratory is a research tool mainly used by researchers in the field of machine learning. The main purpose of this tool is to run python code in jupyter notebooks. These notebooks run on a virtual linux machine private to your gmail account. This means that you will need a gmail account to execute programs in a google colaboratory session. If you have a gmail account you should be able to copy this jupyter notebook to your google drive and execute the code cells.\n",
        "\n",
        "To run mumax3 simulations, you do not need to write any python code. So you might wonder how we can use this jupyter notebook environment to run mumax3 simulations. The trick here is that you can execute shell commands by typing an exclamation mark followed by the command, as shown in the code cell below. If you run this code cell, the shell will print out the operating system of the virtual machine. Having the ability to run shell commands suffices to install and run mumax3 simulations, as demonstrated in the sections below."
      ]
    },
    {
      "cell_type": "code",
      "metadata": {
        "id": "W-P7fobTQgRT",
        "colab": {
          "base_uri": "https://localhost:8080/"
        },
        "outputId": "347f520f-d3ce-4db4-eede-1fd649a1f903"
      },
      "source": [
        "! echo \"This machine runs\" $(uname)"
      ],
      "execution_count": 1,
      "outputs": [
        {
          "output_type": "stream",
          "name": "stdout",
          "text": [
            "This machine runs Linux\n"
          ]
        }
      ]
    },
    {
      "cell_type": "markdown",
      "metadata": {
        "id": "sx20qbQJGQNI"
      },
      "source": [
        "# Installing mumax3"
      ]
    },
    {
      "cell_type": "markdown",
      "metadata": {
        "id": "mxByDMk_XUvM"
      },
      "source": [
        "To install mumax3.10 on this virtual machine, you can run the cell below. This might take a few minutes. When the installation is done, you can collapse this section to get a clean workspace."
      ]
    },
    {
      "cell_type": "code",
      "metadata": {
        "id": "DcUZU5vv_TIf",
        "colab": {
          "base_uri": "https://localhost:8080/"
        },
        "outputId": "a6e509e4-5b23-402c-819d-53c7b443cab7"
      },
      "source": [
        "# Download the mumax3 binary\n",
        "!wget https://mumax.ugent.be/mumax3-binaries/mumax3.10_linux_cuda10.1.tar.gz\n",
        "!tar -xvf mumax3.10_linux_cuda10.1.tar.gz\n",
        "!rm mumax3.10_linux_cuda10.1.tar.gz\n",
        "!rm -rf mumax3.10 && mv mumax3.10_linux_cuda10.1 mumax3.10\n",
        "\n",
        "#update the PATH environment variable\n",
        "import os\n",
        "os.environ['PATH'] += \":/content/mumax3.10\"\n",
        "\n",
        "# Download an examplary script\n",
        "!wget https://raw.githubusercontent.com/JeroenMulkers/mumax3-tutorial/master/standardproblem4.mx3 -O standardproblem4.mx3"
      ],
      "execution_count": 2,
      "outputs": [
        {
          "output_type": "stream",
          "name": "stdout",
          "text": [
            "--2024-11-12 12:48:15--  https://mumax.ugent.be/mumax3-binaries/mumax3.10_linux_cuda10.1.tar.gz\n",
            "Resolving mumax.ugent.be (mumax.ugent.be)... 157.193.40.77\n",
            "Connecting to mumax.ugent.be (mumax.ugent.be)|157.193.40.77|:443... connected.\n",
            "HTTP request sent, awaiting response... 200 OK\n",
            "Length: 150707207 (144M) [application/x-gzip]\n",
            "Saving to: ‘mumax3.10_linux_cuda10.1.tar.gz’\n",
            "\n",
            "mumax3.10_linux_cud 100%[===================>] 143.73M  12.7MB/s    in 13s     \n",
            "\n",
            "2024-11-12 12:48:30 (10.9 MB/s) - ‘mumax3.10_linux_cuda10.1.tar.gz’ saved [150707207/150707207]\n",
            "\n",
            "mumax3.10_linux_cuda10.1/\n",
            "mumax3.10_linux_cuda10.1/mumax3-server\n",
            "mumax3.10_linux_cuda10.1/lib/\n",
            "mumax3.10_linux_cuda10.1/lib/libcurand.so.10\n",
            "mumax3.10_linux_cuda10.1/lib/libcufft.so.10\n",
            "mumax3.10_linux_cuda10.1/mumax3\n",
            "mumax3.10_linux_cuda10.1/LICENSE\n",
            "mumax3.10_linux_cuda10.1/mumax3-convert\n",
            "--2024-11-12 12:48:33--  https://raw.githubusercontent.com/JeroenMulkers/mumax3-tutorial/master/standardproblem4.mx3\n",
            "Resolving raw.githubusercontent.com (raw.githubusercontent.com)... 185.199.108.133, 185.199.109.133, 185.199.110.133, ...\n",
            "Connecting to raw.githubusercontent.com (raw.githubusercontent.com)|185.199.108.133|:443... connected.\n",
            "HTTP request sent, awaiting response... 200 OK\n",
            "Length: 258 [text/plain]\n",
            "Saving to: ‘standardproblem4.mx3’\n",
            "\n",
            "standardproblem4.mx 100%[===================>]     258  --.-KB/s    in 0s      \n",
            "\n",
            "2024-11-12 12:48:34 (22.2 MB/s) - ‘standardproblem4.mx3’ saved [258/258]\n",
            "\n"
          ]
        }
      ]
    },
    {
      "cell_type": "markdown",
      "metadata": {
        "id": "sQhUZQFMBKYY"
      },
      "source": [
        "# Running a mumax3 script"
      ]
    },
    {
      "cell_type": "markdown",
      "metadata": {
        "id": "z4DdTSKVXzmP"
      },
      "source": [
        "You can open the filebrowser for this virtual machine on the left side of this page. Here you should see a mumax3 script named standardproblem4.mx3. You should be able to open this file with a double click. To execute the script run the code cell below."
      ]
    },
    {
      "cell_type": "code",
      "metadata": {
        "id": "9g4lmjd7BXGV",
        "colab": {
          "base_uri": "https://localhost:8080/"
        },
        "outputId": "028df05b-1559-4d5d-e717-dfcdd1250893"
      },
      "source": [
        "!mumax3 standardproblem4.mx3"
      ],
      "execution_count": 3,
      "outputs": [
        {
          "output_type": "stream",
          "name": "stdout",
          "text": [
            "//mumax 3.10 [linux_amd64 go1.14(gc) CUDA-10.1]\n",
            "//GPU info: Tesla T4(15102MB), CUDA Driver 12.2, cc=7.5, using cc=75 PTX\n",
            "//(c) Arne Vansteenkiste, Dynamat LAB, Ghent University, Belgium\n",
            "//This is free software without any warranty. See license.txt\n",
            "//********************************************************************//\n",
            "//  If you use mumax in any work or publication,                      //\n",
            "//  we kindly ask you to cite the references in references.bib        //\n",
            "//********************************************************************//\n",
            "//output directory: standardproblem4.out/\n",
            "//starting GUI at http://127.0.0.1:35367\n",
            "SetGridsize(128, 32, 1)\n",
            "SetCellsize(500e-9/128, 125e-9/32, 3e-9)\n",
            "Msat = 800e3\n",
            "Aex = 13e-12\n",
            "alpha = 0.02\n",
            "m = uniform(1, .1, 0)\n",
            "relax()\n",
            "//Did not use cached kernel: open /tmp/mumax3kernel_[128 32 1]_[0 0 0]_[3.90625e-09 3.90625e-09 3e-09]_6_0 0.ovf: no such file or directory\n",
            "// Calculating demag kernel 1 %\n",
            "// Calculating demag kernel 100 %\n",
            "//Cached kernel: /tmp/mumax3kernel_[128 32 1]_[0 0 0]_[3.90625e-09 3.90625e-09 3e-09]_6_\n",
            "save(m)\n",
            "autosave(m, 200e-12)\n",
            "tableautosave(10e-12)\n",
            "B_ext = vector(-24.6E-3, 4.3E-3, 0)\n",
            "run(1e-9)\n",
            "//********************************************************************//\n",
            "//Please cite the following references, relevant for your simulation. //\n",
            "//See bibtex file in output folder for justification.                 //\n",
            "//********************************************************************//\n",
            "//   * Vansteenkiste et al., AIP Adv. 4, 107133 (2014).\n"
          ]
        }
      ]
    },
    {
      "cell_type": "markdown",
      "metadata": {
        "id": "_l3NeuoFaYuk"
      },
      "source": [
        "If you ran the cell above, then there should be a directory named standardproblem4.out (you might need to click on the refresh button in the filebrowser). This directory contains the output files of the simulation. mumax3-convert can now be used to convert the ovf files to images, as demonstrated in the cell below."
      ]
    },
    {
      "cell_type": "code",
      "metadata": {
        "id": "pmuXIuVRbHaY",
        "colab": {
          "base_uri": "https://localhost:8080/"
        },
        "outputId": "6f78620d-4658-4e74-f821-1cf2696281cc"
      },
      "source": [
        "!mumax3-convert -png standardproblem4.out/*.ovf"
      ],
      "execution_count": 4,
      "outputs": [
        {
          "output_type": "stream",
          "name": "stdout",
          "text": [
            "standardproblem4.out/m000000.ovf\n",
            "standardproblem4.out/m000001.ovf\n",
            "standardproblem4.out/m000002.ovf\n",
            "standardproblem4.out/m000003.ovf\n",
            "standardproblem4.out/m000004.ovf\n",
            "standardproblem4.out/m000005.ovf\n",
            "standardproblem4.out/m000006.ovf\n",
            "[ ok ] standardproblem4.out/m000000.ovf\t-> standardproblem4.out/m000000.png\n",
            "[ ok ] standardproblem4.out/m000003.ovf\t-> standardproblem4.out/m000003.png\n",
            "[ ok ] standardproblem4.out/m000002.ovf\t-> standardproblem4.out/m000002.png\n",
            "[ ok ] standardproblem4.out/m000004.ovf\t-> standardproblem4.out/m000004.png\n",
            "[ ok ] standardproblem4.out/m000005.ovf\t-> standardproblem4.out/m000005.png\n",
            "[ ok ] standardproblem4.out/m000001.ovf\t-> standardproblem4.out/m000001.png\n",
            "[ ok ] standardproblem4.out/m000006.ovf\t-> standardproblem4.out/m000006.png\n",
            "7 files converted,  0 skipped,  0 failed\n"
          ]
        }
      ]
    },
    {
      "cell_type": "markdown",
      "metadata": {
        "id": "BtIafNN4bs5e"
      },
      "source": [
        "Now it's up to you. Right click on the filebrowser to add a new file. Open the file and write your first mumax3 script. Run this script as demonstrated above."
      ]
    },
    {
      "cell_type": "code",
      "metadata": {
        "colab": {
          "base_uri": "https://localhost:8080/"
        },
        "outputId": "f0ab9286-b941-4a1d-f48e-55f6157aa857",
        "id": "cXbwRcSnbThv"
      },
      "source": [
        "!mumax3 examples\\first.mx3"
      ],
      "execution_count": 12,
      "outputs": [
        {
          "output_type": "stream",
          "name": "stdout",
          "text": [
            "//mumax 3.10 [linux_amd64 go1.14(gc) CUDA-10.1]\n",
            "//GPU info: Tesla T4(15102MB), CUDA Driver 12.2, cc=7.5, using cc=75 PTX\n",
            "//(c) Arne Vansteenkiste, Dynamat LAB, Ghent University, Belgium\n",
            "//This is free software without any warranty. See license.txt\n",
            "//********************************************************************//\n",
            "//  If you use mumax in any work or publication,                      //\n",
            "//  we kindly ask you to cite the references in references.bib        //\n",
            "//********************************************************************//\n",
            "//output directory: examplesfirst.out/\n",
            "/home/jmulkers/GO/src/github.com/mumax/3/cmd/mumax3/main.go:110 open examplesfirst.mx3: no such file or directory\n"
          ]
        }
      ]
    },
    {
      "cell_type": "code",
      "metadata": {
        "colab": {
          "base_uri": "https://localhost:8080/"
        },
        "outputId": "b83e3e42-258b-4908-f545-a0cc9b52ba68",
        "id": "xWrj6Gpiblji"
      },
      "source": [
        "!mumax3-convert -png examplesfirst.out/*.ovf"
      ],
      "execution_count": 13,
      "outputs": [
        {
          "output_type": "stream",
          "name": "stdout",
          "text": [
            "examplesfirst.out/*.ovf\n",
            "0 files converted,  0 skipped,  0 failed\n"
          ]
        }
      ]
    },
    {
      "cell_type": "code",
      "source": [],
      "metadata": {
        "id": "LV572xFFbtVj"
      },
      "execution_count": null,
      "outputs": []
    }
  ]
}